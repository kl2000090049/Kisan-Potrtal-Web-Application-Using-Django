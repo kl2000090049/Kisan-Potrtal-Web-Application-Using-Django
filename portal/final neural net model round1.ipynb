{
 "cells": [
  {
   "cell_type": "code",
   "execution_count": 1,
   "metadata": {
    "collapsed": true
   },
   "outputs": [],
   "source": [
    "import pandas as pd\n",
    "import numpy as np\n",
    "import matplotlib.pyplot as plt\n",
    "import seaborn as sns\n",
    "import numpy as np\n",
    "%matplotlib inline"
   ]
  },
  {
   "cell_type": "code",
   "execution_count": 2,
   "metadata": {
    "collapsed": true
   },
   "outputs": [],
   "source": [
    "train=pd.read_csv(\"train.csv\")"
   ]
  },
  {
   "cell_type": "code",
   "execution_count": 3,
   "metadata": {
    "collapsed": true
   },
   "outputs": [],
   "source": [
    "train.drop([1925,1188],inplace=True)"
   ]
  },
  {
   "cell_type": "code",
   "execution_count": 4,
   "metadata": {
    "collapsed": true
   },
   "outputs": [],
   "source": [
    "test=pd.read_csv(\"test.csv\")"
   ]
  },
  {
   "cell_type": "code",
   "execution_count": 5,
   "metadata": {},
   "outputs": [
    {
     "name": "stderr",
     "output_type": "stream",
     "text": [
      "/home/sirzechlucifer/anaconda3/lib/python3.6/site-packages/ipykernel_launcher.py:3: FutureWarning: Sorting because non-concatenation axis is not aligned. A future version\n",
      "of pandas will change to not sort by default.\n",
      "\n",
      "To accept the future behavior, pass 'sort=False'.\n",
      "\n",
      "To retain the current behavior and silence the warning, pass 'sort=True'.\n",
      "\n",
      "  This is separate from the ipykernel package so we can avoid doing imports until\n"
     ]
    }
   ],
   "source": [
    "train['source']='train'\n",
    "test['source']='test'\n",
    "data = pd.concat([train, test],ignore_index=True)"
   ]
  },
  {
   "cell_type": "code",
   "execution_count": 6,
   "metadata": {
    "collapsed": true
   },
   "outputs": [],
   "source": [
    "data[\"AvgAirTemp\"]=data[\"AvgAirTemp\"].fillna(data.groupby('Season')['AvgAirTemp'].transform(\"mean\"))\n",
    "data[\"AvgDewPt\"]=data[\"AvgDewPt\"].fillna(data.groupby('Season')['AvgDewPt'].transform(\"mean\"))\n",
    "data[\"AvgDewPtKurt\"]=data[\"AvgDewPtKurt\"].fillna(data.groupby(\"Season\")[\"AvgDewPtKurt\"].transform(\"mean\"))\n",
    "data[\"AvgDewPtSkew\"]=data[\"AvgDewPtSkew\"].fillna(data.groupby(\"Season\")[\"AvgDewPtSkew\"].transform(\"mean\"))\n",
    "data[\"AvgPrec\"]=data[\"AvgPrec\"].fillna(data.groupby(\"Year\")[\"AvgPrec\"].transform(\"mean\"))\n",
    "data[\"AvgPrecKurt\"]=data[\"AvgPrecKurt\"].fillna(data.groupby(\"Year\")[\"AvgPrecKurt\"].transform(\"mean\"))\n",
    "data[\"AvgPrecSkew\"]=data[\"AvgPrecSkew\"].fillna(data.groupby(\"Year\")[\"AvgPrecSkew\"].transform(\"mean\"))\n",
    "data[\"AvgRelHum\"]=data[\"AvgRelHum\"].fillna(data.groupby(\"Season\")[\"AvgRelHum\"].transform(\"mean\"))\n",
    "data[\"AvgRelHumKurt\"]=data[\"AvgRelHumKurt\"].fillna(data.groupby(\"Season\")[\"AvgRelHumKurt\"].transform(\"mean\"))\n",
    "data[\"AvgRelHumSkew\"]=data[\"AvgRelHumSkew\"].fillna(data.groupby(\"Season\")[\"AvgRelHumSkew\"].transform(\"mean\"))\n",
    "data[\"AvgTempKurt\"]=data[\"AvgTempKurt\"].fillna(data.groupby(\"Season\")[\"AvgTempKurt\"].transform(\"mean\"))\n",
    "data[\"AvgTempSkew\"]=data[\"AvgTempSkew\"].fillna(data.groupby(\"Season\")[\"AvgRelHumSkew\"].transform(\"mean\"))\n",
    "data[\"MinAirTemp\"]=data[\"MinAirTemp\"].fillna(data.groupby(\"Season\")[\"MinAirTemp\"].transform(\"min\"))\n",
    "data[\"MaxAirTemp\"]=data[\"MaxAirTemp\"].fillna(data.groupby(\"Season\")[\"MaxAirTemp\"].transform(\"max\"))\n",
    "data[\"AvgWind\"]=data[\"AvgWind\"].fillna(data.groupby(\"Season\")[\"AvgWind\"].transform(\"mean\"))"
   ]
  },
  {
   "cell_type": "code",
   "execution_count": 7,
   "metadata": {
    "collapsed": true
   },
   "outputs": [],
   "source": [
    "train_test=[data]\n",
    "season_map={\"Kharif\":2,\"Rabi\":1,\"Summer\":3,\"Whole year\":4}\n",
    "for gr in train_test:\n",
    "    gr[\"Season\"]=gr[\"Season\"].map(season_map)"
   ]
  },
  {
   "cell_type": "code",
   "execution_count": 8,
   "metadata": {},
   "outputs": [
    {
     "name": "stderr",
     "output_type": "stream",
     "text": [
      "/home/sirzechlucifer/anaconda3/lib/python3.6/site-packages/pandas/core/frame.py:3697: SettingWithCopyWarning: \n",
      "A value is trying to be set on a copy of a slice from a DataFrame\n",
      "\n",
      "See the caveats in the documentation: http://pandas.pydata.org/pandas-docs/stable/indexing.html#indexing-view-versus-copy\n",
      "  errors=errors)\n"
     ]
    }
   ],
   "source": [
    "data[\"Season\"].astype('int64',copy=False)\n",
    "data.drop([\"District\",\"Crop\",\"Year\",\"MinAirTemp\",\"MaxAirTemp\",\"AvgWind\",\"Season\",\"AvgTempKurt\",\"AvgTempSkew\",\"AvgRelHumSkew\",\"AvgRelHumKurt\"],inplace=True,axis=1)\n",
    "train = data.loc[data['source']==\"train\"]\n",
    "test = data.loc[data['source']==\"test\"]\n",
    "test.drop(['source'],axis=1,inplace=True)\n",
    "train.drop(['source'],axis=1,inplace=True)"
   ]
  },
  {
   "cell_type": "code",
   "execution_count": 9,
   "metadata": {},
   "outputs": [],
   "source": [
    "ID=test[\"ID\"]\n",
    "target=train[\"Yield\"]\n",
    "train.drop([\"ID\",\"Yield\"],inplace=True,axis=1)\n",
    "test.drop([\"ID\",\"Yield\"],inplace=True,axis=1)"
   ]
  },
  {
   "cell_type": "code",
   "execution_count": 10,
   "metadata": {
    "collapsed": true
   },
   "outputs": [],
   "source": [
    "from sklearn.model_selection import train_test_split"
   ]
  },
  {
   "cell_type": "code",
   "execution_count": 11,
   "metadata": {
    "collapsed": true
   },
   "outputs": [],
   "source": [
    "#train_1,cross_val,target_train,target_crossval=train_test_split(train,target,test_size=0.20,shuffle=True)\n",
    "#cross_val1,test_crossval,target_crossval1,target_test=train_test_split(cross_val,target_crossval,test_size=0.1,shuffle=True)"
   ]
  },
  {
   "cell_type": "code",
   "execution_count": 12,
   "metadata": {},
   "outputs": [
    {
     "name": "stderr",
     "output_type": "stream",
     "text": [
      "/home/sirzechlucifer/anaconda3/lib/python3.6/site-packages/h5py/__init__.py:34: FutureWarning: Conversion of the second argument of issubdtype from `float` to `np.floating` is deprecated. In future, it will be treated as `np.float64 == np.dtype(float).type`.\n",
      "  from ._conv import register_converters as _register_converters\n",
      "Using TensorFlow backend.\n"
     ]
    }
   ],
   "source": [
    "from keras.models import Sequential\n",
    "from keras.layers import Dense\n",
    "from keras.wrappers.scikit_learn import KerasRegressor\n",
    "from sklearn.model_selection import cross_val_score\n",
    "from sklearn.model_selection import KFold\n",
    "from sklearn.preprocessing import StandardScaler\n",
    "from sklearn.pipeline import Pipeline\n",
    "from keras.layers import Dropout\n"
   ]
  },
  {
   "cell_type": "code",
   "execution_count": 13,
   "metadata": {
    "collapsed": true
   },
   "outputs": [],
   "source": [
    "from sklearn.model_selection import train_test_split\n",
    "from sklearn.preprocessing import StandardScaler"
   ]
  },
  {
   "cell_type": "code",
   "execution_count": 14,
   "metadata": {
    "collapsed": true
   },
   "outputs": [],
   "source": [
    "ss=StandardScaler()\n",
    "train=ss.fit_transform(train)\n",
    "test=ss.fit_transform(test)"
   ]
  },
  {
   "cell_type": "code",
   "execution_count": 15,
   "metadata": {
    "collapsed": true
   },
   "outputs": [],
   "source": [
    "#train_1,cross_val,target_train,target_crossval=train_test_split(train,target,test_size=0.20,shuffle=True)\n",
    "#cross_val1,test_crossval,target_crossval1,target_test=train_test_split(cross_val,target_crossval,test_size=0.1,shuffle=True)\n",
    "from keras import metrics\n",
    "from keras  import callbacks\n",
    "from keras.callbacks import EarlyStopping\n",
    "from keras import optimizers"
   ]
  },
  {
   "cell_type": "code",
   "execution_count": 16,
   "metadata": {},
   "outputs": [
    {
     "name": "stdout",
     "output_type": "stream",
     "text": [
      "Train on 1989 samples, validate on 853 samples\n",
      "Epoch 1/100\n",
      "1989/1989 [==============================] - 0s 228us/step - loss: 3.8456 - mean_absolute_error: 3.8456 - val_loss: 2.8044 - val_mean_absolute_error: 2.8044\n",
      "Epoch 2/100\n",
      "1989/1989 [==============================] - 0s 111us/step - loss: 3.7893 - mean_absolute_error: 3.7893 - val_loss: 2.7899 - val_mean_absolute_error: 2.7899\n",
      "Epoch 3/100\n",
      "1989/1989 [==============================] - 0s 110us/step - loss: 3.7730 - mean_absolute_error: 3.7730 - val_loss: 2.7825 - val_mean_absolute_error: 2.7825\n",
      "Epoch 4/100\n",
      "1989/1989 [==============================] - 0s 109us/step - loss: 3.7649 - mean_absolute_error: 3.7649 - val_loss: 2.7769 - val_mean_absolute_error: 2.7769\n",
      "Epoch 5/100\n",
      "1989/1989 [==============================] - 0s 114us/step - loss: 3.7567 - mean_absolute_error: 3.7567 - val_loss: 2.7714 - val_mean_absolute_error: 2.7714\n",
      "Epoch 6/100\n",
      "1989/1989 [==============================] - 0s 104us/step - loss: 3.7492 - mean_absolute_error: 3.7492 - val_loss: 2.7687 - val_mean_absolute_error: 2.7687\n",
      "Epoch 7/100\n",
      "1989/1989 [==============================] - 0s 113us/step - loss: 3.7451 - mean_absolute_error: 3.7451 - val_loss: 2.7734 - val_mean_absolute_error: 2.7734\n",
      "Epoch 8/100\n",
      "1989/1989 [==============================] - 0s 106us/step - loss: 3.7430 - mean_absolute_error: 3.7430 - val_loss: 2.7708 - val_mean_absolute_error: 2.7708\n",
      "Epoch 9/100\n",
      "1989/1989 [==============================] - 0s 104us/step - loss: 3.7378 - mean_absolute_error: 3.7378 - val_loss: 2.7722 - val_mean_absolute_error: 2.7722\n",
      "Epoch 10/100\n",
      "1989/1989 [==============================] - 0s 110us/step - loss: 3.7299 - mean_absolute_error: 3.7299 - val_loss: 2.7703 - val_mean_absolute_error: 2.7703\n",
      "Epoch 11/100\n",
      "1989/1989 [==============================] - 0s 109us/step - loss: 3.7315 - mean_absolute_error: 3.7315 - val_loss: 2.7691 - val_mean_absolute_error: 2.7691\n",
      "Epoch 12/100\n",
      "1989/1989 [==============================] - 0s 113us/step - loss: 3.7246 - mean_absolute_error: 3.7246 - val_loss: 2.7667 - val_mean_absolute_error: 2.7667\n",
      "Epoch 13/100\n",
      "1989/1989 [==============================] - 0s 101us/step - loss: 3.7174 - mean_absolute_error: 3.7174 - val_loss: 2.7736 - val_mean_absolute_error: 2.7736\n",
      "Epoch 14/100\n",
      "1989/1989 [==============================] - 0s 106us/step - loss: 3.7197 - mean_absolute_error: 3.7197 - val_loss: 2.7672 - val_mean_absolute_error: 2.7672\n",
      "Epoch 15/100\n",
      "1989/1989 [==============================] - 0s 105us/step - loss: 3.7170 - mean_absolute_error: 3.7170 - val_loss: 2.7574 - val_mean_absolute_error: 2.7574\n",
      "Epoch 16/100\n",
      "1989/1989 [==============================] - 0s 106us/step - loss: 3.7138 - mean_absolute_error: 3.7138 - val_loss: 2.7633 - val_mean_absolute_error: 2.7633\n",
      "Epoch 17/100\n",
      "1989/1989 [==============================] - 0s 104us/step - loss: 3.7146 - mean_absolute_error: 3.7146 - val_loss: 2.7593 - val_mean_absolute_error: 2.7593\n",
      "Epoch 18/100\n",
      "1989/1989 [==============================] - 0s 109us/step - loss: 3.7079 - mean_absolute_error: 3.7079 - val_loss: 2.7551 - val_mean_absolute_error: 2.7551\n",
      "Epoch 19/100\n",
      "1989/1989 [==============================] - 0s 104us/step - loss: 3.6959 - mean_absolute_error: 3.6959 - val_loss: 2.7584 - val_mean_absolute_error: 2.7584\n",
      "Epoch 20/100\n",
      "1989/1989 [==============================] - 0s 106us/step - loss: 3.7030 - mean_absolute_error: 3.7030 - val_loss: 2.7512 - val_mean_absolute_error: 2.7512\n",
      "Epoch 21/100\n",
      "1989/1989 [==============================] - 0s 112us/step - loss: 3.6997 - mean_absolute_error: 3.6997 - val_loss: 2.7466 - val_mean_absolute_error: 2.7466\n",
      "Epoch 22/100\n",
      "1989/1989 [==============================] - 0s 111us/step - loss: 3.6855 - mean_absolute_error: 3.6855 - val_loss: 2.7457 - val_mean_absolute_error: 2.7457\n",
      "Epoch 23/100\n",
      "1989/1989 [==============================] - 0s 108us/step - loss: 3.6940 - mean_absolute_error: 3.6940 - val_loss: 2.7508 - val_mean_absolute_error: 2.7508\n",
      "Epoch 24/100\n",
      "1989/1989 [==============================] - 0s 101us/step - loss: 3.6985 - mean_absolute_error: 3.6985 - val_loss: 2.7462 - val_mean_absolute_error: 2.7462\n",
      "Epoch 25/100\n",
      "1989/1989 [==============================] - 0s 105us/step - loss: 3.6905 - mean_absolute_error: 3.6905 - val_loss: 2.7437 - val_mean_absolute_error: 2.7437\n",
      "Epoch 26/100\n",
      "1989/1989 [==============================] - 0s 108us/step - loss: 3.6887 - mean_absolute_error: 3.6887 - val_loss: 2.7449 - val_mean_absolute_error: 2.7449\n",
      "Epoch 27/100\n",
      "1989/1989 [==============================] - 0s 113us/step - loss: 3.6914 - mean_absolute_error: 3.6914 - val_loss: 2.7450 - val_mean_absolute_error: 2.7450\n",
      "Epoch 28/100\n",
      "1989/1989 [==============================] - 0s 110us/step - loss: 3.6901 - mean_absolute_error: 3.6901 - val_loss: 2.7442 - val_mean_absolute_error: 2.7442\n",
      "Epoch 29/100\n",
      "1989/1989 [==============================] - 0s 106us/step - loss: 3.6782 - mean_absolute_error: 3.6782 - val_loss: 2.7426 - val_mean_absolute_error: 2.7426\n",
      "Epoch 30/100\n",
      "1989/1989 [==============================] - 0s 112us/step - loss: 3.6845 - mean_absolute_error: 3.6845 - val_loss: 2.7362 - val_mean_absolute_error: 2.7362\n",
      "Epoch 31/100\n",
      "1989/1989 [==============================] - 0s 110us/step - loss: 3.6725 - mean_absolute_error: 3.6725 - val_loss: 2.7351 - val_mean_absolute_error: 2.7351\n",
      "Epoch 32/100\n",
      "1989/1989 [==============================] - 0s 109us/step - loss: 3.6801 - mean_absolute_error: 3.6801 - val_loss: 2.7383 - val_mean_absolute_error: 2.7383\n",
      "Epoch 33/100\n",
      "1989/1989 [==============================] - 0s 106us/step - loss: 3.6750 - mean_absolute_error: 3.6750 - val_loss: 2.7345 - val_mean_absolute_error: 2.7345\n",
      "Epoch 34/100\n",
      "1989/1989 [==============================] - 0s 111us/step - loss: 3.6755 - mean_absolute_error: 3.6755 - val_loss: 2.7404 - val_mean_absolute_error: 2.7404\n",
      "Epoch 35/100\n",
      "1989/1989 [==============================] - 0s 100us/step - loss: 3.6691 - mean_absolute_error: 3.6691 - val_loss: 2.7344 - val_mean_absolute_error: 2.7344\n",
      "Epoch 36/100\n",
      "1989/1989 [==============================] - 0s 103us/step - loss: 3.6764 - mean_absolute_error: 3.6764 - val_loss: 2.7370 - val_mean_absolute_error: 2.7370\n",
      "Epoch 37/100\n",
      "1989/1989 [==============================] - 0s 114us/step - loss: 3.6708 - mean_absolute_error: 3.6708 - val_loss: 2.7328 - val_mean_absolute_error: 2.7328\n",
      "Epoch 38/100\n",
      "1989/1989 [==============================] - 0s 115us/step - loss: 3.6697 - mean_absolute_error: 3.6697 - val_loss: 2.7353 - val_mean_absolute_error: 2.7353\n",
      "Epoch 39/100\n",
      "1989/1989 [==============================] - 0s 112us/step - loss: 3.6791 - mean_absolute_error: 3.6791 - val_loss: 2.7406 - val_mean_absolute_error: 2.7406\n",
      "Epoch 40/100\n",
      "1989/1989 [==============================] - 0s 119us/step - loss: 3.6806 - mean_absolute_error: 3.6806 - val_loss: 2.7483 - val_mean_absolute_error: 2.7483\n",
      "Epoch 41/100\n",
      "1989/1989 [==============================] - 0s 104us/step - loss: 3.6688 - mean_absolute_error: 3.6688 - val_loss: 2.7437 - val_mean_absolute_error: 2.7437\n",
      "Epoch 42/100\n",
      "1989/1989 [==============================] - 0s 117us/step - loss: 3.6745 - mean_absolute_error: 3.6745 - val_loss: 2.7362 - val_mean_absolute_error: 2.7362\n",
      "Epoch 43/100\n",
      "1989/1989 [==============================] - 0s 114us/step - loss: 3.6726 - mean_absolute_error: 3.6726 - val_loss: 2.7337 - val_mean_absolute_error: 2.7337\n",
      "Epoch 44/100\n",
      "1989/1989 [==============================] - 0s 106us/step - loss: 3.6666 - mean_absolute_error: 3.6666 - val_loss: 2.7387 - val_mean_absolute_error: 2.7387\n",
      "Epoch 45/100\n",
      "1989/1989 [==============================] - 0s 108us/step - loss: 3.6684 - mean_absolute_error: 3.6684 - val_loss: 2.7327 - val_mean_absolute_error: 2.7327\n",
      "Epoch 46/100\n",
      "1989/1989 [==============================] - 0s 109us/step - loss: 3.6651 - mean_absolute_error: 3.6651 - val_loss: 2.7360 - val_mean_absolute_error: 2.7360\n",
      "Epoch 47/100\n",
      "1989/1989 [==============================] - 0s 109us/step - loss: 3.6680 - mean_absolute_error: 3.6680 - val_loss: 2.7345 - val_mean_absolute_error: 2.7345\n",
      "Epoch 48/100\n",
      "1989/1989 [==============================] - 0s 107us/step - loss: 3.6718 - mean_absolute_error: 3.6718 - val_loss: 2.7355 - val_mean_absolute_error: 2.7355\n"
     ]
    },
    {
     "name": "stdout",
     "output_type": "stream",
     "text": [
      "Epoch 49/100\n",
      "1989/1989 [==============================] - 0s 114us/step - loss: 3.6632 - mean_absolute_error: 3.6632 - val_loss: 2.7363 - val_mean_absolute_error: 2.7363\n",
      "Epoch 50/100\n",
      "1989/1989 [==============================] - 0s 114us/step - loss: 3.6579 - mean_absolute_error: 3.6579 - val_loss: 2.7378 - val_mean_absolute_error: 2.7378\n",
      "Epoch 51/100\n",
      "1989/1989 [==============================] - 0s 112us/step - loss: 3.6641 - mean_absolute_error: 3.6641 - val_loss: 2.7347 - val_mean_absolute_error: 2.7347\n",
      "Epoch 52/100\n",
      "1989/1989 [==============================] - 0s 109us/step - loss: 3.6649 - mean_absolute_error: 3.6649 - val_loss: 2.7372 - val_mean_absolute_error: 2.7372\n",
      "Epoch 53/100\n",
      "1989/1989 [==============================] - 0s 106us/step - loss: 3.6598 - mean_absolute_error: 3.6598 - val_loss: 2.7377 - val_mean_absolute_error: 2.7377\n",
      "Epoch 54/100\n",
      "1989/1989 [==============================] - 0s 107us/step - loss: 3.6712 - mean_absolute_error: 3.6712 - val_loss: 2.7346 - val_mean_absolute_error: 2.7346\n",
      "Epoch 55/100\n",
      "1989/1989 [==============================] - 0s 110us/step - loss: 3.6630 - mean_absolute_error: 3.6630 - val_loss: 2.7362 - val_mean_absolute_error: 2.7362\n",
      "Epoch 56/100\n",
      "1989/1989 [==============================] - 0s 110us/step - loss: 3.6632 - mean_absolute_error: 3.6632 - val_loss: 2.7373 - val_mean_absolute_error: 2.7373\n",
      "Epoch 57/100\n",
      "1989/1989 [==============================] - 0s 108us/step - loss: 3.6641 - mean_absolute_error: 3.6641 - val_loss: 2.7352 - val_mean_absolute_error: 2.7352\n",
      "Epoch 58/100\n",
      "1989/1989 [==============================] - 0s 107us/step - loss: 3.6624 - mean_absolute_error: 3.6624 - val_loss: 2.7401 - val_mean_absolute_error: 2.7401\n",
      "Epoch 59/100\n",
      "1989/1989 [==============================] - 0s 108us/step - loss: 3.6647 - mean_absolute_error: 3.6647 - val_loss: 2.7412 - val_mean_absolute_error: 2.7412\n",
      "Epoch 60/100\n",
      "1989/1989 [==============================] - 0s 105us/step - loss: 3.6644 - mean_absolute_error: 3.6644 - val_loss: 2.7450 - val_mean_absolute_error: 2.7450\n",
      "Epoch 61/100\n",
      "1989/1989 [==============================] - 0s 108us/step - loss: 3.6544 - mean_absolute_error: 3.6544 - val_loss: 2.7341 - val_mean_absolute_error: 2.7341\n",
      "Epoch 62/100\n",
      "1989/1989 [==============================] - 0s 112us/step - loss: 3.6540 - mean_absolute_error: 3.6540 - val_loss: 2.7404 - val_mean_absolute_error: 2.7404\n",
      "Epoch 63/100\n",
      "1989/1989 [==============================] - 0s 108us/step - loss: 3.6526 - mean_absolute_error: 3.6526 - val_loss: 2.7418 - val_mean_absolute_error: 2.7418\n",
      "Epoch 64/100\n",
      "1989/1989 [==============================] - 0s 111us/step - loss: 3.6528 - mean_absolute_error: 3.6528 - val_loss: 2.7445 - val_mean_absolute_error: 2.7445\n",
      "Epoch 65/100\n",
      "1989/1989 [==============================] - 0s 105us/step - loss: 3.6553 - mean_absolute_error: 3.6553 - val_loss: 2.7425 - val_mean_absolute_error: 2.7425\n",
      "Epoch 66/100\n",
      "1989/1989 [==============================] - 0s 108us/step - loss: 3.6569 - mean_absolute_error: 3.6569 - val_loss: 2.7375 - val_mean_absolute_error: 2.7375\n",
      "Epoch 67/100\n",
      "1989/1989 [==============================] - 0s 108us/step - loss: 3.6586 - mean_absolute_error: 3.6586 - val_loss: 2.7448 - val_mean_absolute_error: 2.7448\n",
      "Epoch 68/100\n",
      "1989/1989 [==============================] - 0s 109us/step - loss: 3.6443 - mean_absolute_error: 3.6443 - val_loss: 2.7423 - val_mean_absolute_error: 2.7423\n",
      "Epoch 69/100\n",
      "1989/1989 [==============================] - 0s 106us/step - loss: 3.6561 - mean_absolute_error: 3.6561 - val_loss: 2.7469 - val_mean_absolute_error: 2.7469\n",
      "Epoch 70/100\n",
      "1989/1989 [==============================] - 0s 106us/step - loss: 3.6510 - mean_absolute_error: 3.6510 - val_loss: 2.7437 - val_mean_absolute_error: 2.7437\n",
      "Epoch 71/100\n",
      "1989/1989 [==============================] - 0s 110us/step - loss: 3.6531 - mean_absolute_error: 3.6531 - val_loss: 2.7529 - val_mean_absolute_error: 2.7529\n",
      "Epoch 72/100\n",
      "1989/1989 [==============================] - 0s 108us/step - loss: 3.6509 - mean_absolute_error: 3.6509 - val_loss: 2.7447 - val_mean_absolute_error: 2.7447\n",
      "Epoch 73/100\n",
      "1989/1989 [==============================] - 0s 107us/step - loss: 3.6494 - mean_absolute_error: 3.6494 - val_loss: 2.7498 - val_mean_absolute_error: 2.7498\n",
      "Epoch 74/100\n",
      "1989/1989 [==============================] - 0s 108us/step - loss: 3.6449 - mean_absolute_error: 3.6449 - val_loss: 2.7490 - val_mean_absolute_error: 2.7490\n",
      "Epoch 75/100\n",
      "1989/1989 [==============================] - 0s 111us/step - loss: 3.6538 - mean_absolute_error: 3.6538 - val_loss: 2.7466 - val_mean_absolute_error: 2.7466\n",
      "Epoch 76/100\n",
      "1989/1989 [==============================] - 0s 110us/step - loss: 3.6530 - mean_absolute_error: 3.6530 - val_loss: 2.7466 - val_mean_absolute_error: 2.7466\n",
      "Epoch 77/100\n",
      "1989/1989 [==============================] - 0s 107us/step - loss: 3.6576 - mean_absolute_error: 3.6576 - val_loss: 2.7482 - val_mean_absolute_error: 2.7482\n",
      "Epoch 78/100\n",
      "1989/1989 [==============================] - 0s 112us/step - loss: 3.6393 - mean_absolute_error: 3.6393 - val_loss: 2.7515 - val_mean_absolute_error: 2.7515\n",
      "Epoch 79/100\n",
      "1989/1989 [==============================] - 0s 111us/step - loss: 3.6437 - mean_absolute_error: 3.6437 - val_loss: 2.7622 - val_mean_absolute_error: 2.7622\n",
      "Epoch 80/100\n",
      "1989/1989 [==============================] - 0s 113us/step - loss: 3.6486 - mean_absolute_error: 3.6486 - val_loss: 2.7513 - val_mean_absolute_error: 2.7513\n",
      "Epoch 81/100\n",
      "1989/1989 [==============================] - 0s 110us/step - loss: 3.6449 - mean_absolute_error: 3.6449 - val_loss: 2.7544 - val_mean_absolute_error: 2.7544\n",
      "Epoch 82/100\n",
      "1989/1989 [==============================] - 0s 109us/step - loss: 3.6386 - mean_absolute_error: 3.6386 - val_loss: 2.7662 - val_mean_absolute_error: 2.7662\n",
      "Epoch 83/100\n",
      "1989/1989 [==============================] - 0s 108us/step - loss: 3.6369 - mean_absolute_error: 3.6369 - val_loss: 2.7557 - val_mean_absolute_error: 2.7557\n",
      "Epoch 84/100\n",
      "1989/1989 [==============================] - 0s 112us/step - loss: 3.6456 - mean_absolute_error: 3.6456 - val_loss: 2.7510 - val_mean_absolute_error: 2.7510\n",
      "Epoch 85/100\n",
      "1989/1989 [==============================] - 0s 113us/step - loss: 3.6490 - mean_absolute_error: 3.6490 - val_loss: 2.7518 - val_mean_absolute_error: 2.7518\n",
      "Epoch 86/100\n",
      "1989/1989 [==============================] - 0s 111us/step - loss: 3.6566 - mean_absolute_error: 3.6566 - val_loss: 2.7478 - val_mean_absolute_error: 2.7478\n",
      "Epoch 87/100\n",
      "1989/1989 [==============================] - 0s 112us/step - loss: 3.6507 - mean_absolute_error: 3.6507 - val_loss: 2.7492 - val_mean_absolute_error: 2.7492\n",
      "Epoch 88/100\n",
      "1989/1989 [==============================] - 0s 110us/step - loss: 3.6370 - mean_absolute_error: 3.6370 - val_loss: 2.7538 - val_mean_absolute_error: 2.7538\n",
      "Epoch 89/100\n",
      "1989/1989 [==============================] - 0s 109us/step - loss: 3.6448 - mean_absolute_error: 3.6448 - val_loss: 2.7536 - val_mean_absolute_error: 2.7536\n",
      "Epoch 90/100\n",
      "1989/1989 [==============================] - 0s 107us/step - loss: 3.6495 - mean_absolute_error: 3.6495 - val_loss: 2.7764 - val_mean_absolute_error: 2.7764\n",
      "Epoch 91/100\n",
      "1989/1989 [==============================] - 0s 108us/step - loss: 3.6392 - mean_absolute_error: 3.6392 - val_loss: 2.7543 - val_mean_absolute_error: 2.7543\n",
      "Epoch 92/100\n",
      "1989/1989 [==============================] - 0s 109us/step - loss: 3.6506 - mean_absolute_error: 3.6506 - val_loss: 2.7604 - val_mean_absolute_error: 2.7604\n",
      "Epoch 93/100\n",
      "1989/1989 [==============================] - 0s 109us/step - loss: 3.6475 - mean_absolute_error: 3.6475 - val_loss: 2.7567 - val_mean_absolute_error: 2.7567\n",
      "Epoch 94/100\n",
      "1989/1989 [==============================] - 0s 117us/step - loss: 3.6428 - mean_absolute_error: 3.6428 - val_loss: 2.7556 - val_mean_absolute_error: 2.7556\n",
      "Epoch 95/100\n",
      "1989/1989 [==============================] - 0s 108us/step - loss: 3.6341 - mean_absolute_error: 3.6341 - val_loss: 2.7682 - val_mean_absolute_error: 2.7682\n",
      "Epoch 96/100\n",
      "1989/1989 [==============================] - 0s 110us/step - loss: 3.6369 - mean_absolute_error: 3.6369 - val_loss: 2.7495 - val_mean_absolute_error: 2.7495\n",
      "Epoch 97/100\n"
     ]
    },
    {
     "name": "stdout",
     "output_type": "stream",
     "text": [
      "1989/1989 [==============================] - 0s 104us/step - loss: 3.6422 - mean_absolute_error: 3.6422 - val_loss: 2.7573 - val_mean_absolute_error: 2.7573\n",
      "Epoch 98/100\n",
      "1989/1989 [==============================] - 0s 104us/step - loss: 3.6420 - mean_absolute_error: 3.6420 - val_loss: 2.7516 - val_mean_absolute_error: 2.7516\n",
      "Epoch 99/100\n",
      "1989/1989 [==============================] - 0s 112us/step - loss: 3.6401 - mean_absolute_error: 3.6401 - val_loss: 2.7545 - val_mean_absolute_error: 2.7545\n",
      "Epoch 100/100\n",
      "1989/1989 [==============================] - 0s 113us/step - loss: 3.6350 - mean_absolute_error: 3.6350 - val_loss: 2.7485 - val_mean_absolute_error: 2.7485\n"
     ]
    },
    {
     "data": {
      "image/png": "[encoded data removed]",
      "text/plain": [
       "<Figure size 432x288 with 1 Axes>"
      ]
     },
     "metadata": {
      "needs_background": "light"
     },
     "output_type": "display_data"
    }
   ],
   "source": [
    "\n",
    "early_stop = EarlyStopping(monitor='val_loss', min_delta=0, patience=3, verbose=1, mode='auto')\n",
    "\n",
    "model = Sequential()\n",
    "model.add(Dense(30, input_dim=8, activation='relu'))\n",
    "model.add(Dense(20,activation='relu'))\n",
    "model.add(Dropout(0.1))\n",
    "model.add(Dense(10, activation='relu'))\n",
    "model.add(Dense(1, activation='linear'))\n",
    "adam=optimizers.Adam()\n",
    "model.compile(loss='mae', optimizer=adam,metrics=[metrics.mae])\n",
    "history=model.fit(train, target, validation_split=0.3, epochs=100, batch_size=10, verbose=1)\n",
    "training_loss = history.history['loss']\n",
    "test_loss = history.history['val_loss']\n",
    "\n",
    "# Create count of the number of epochs\n",
    "epoch_count = range(1, len(training_loss) + 1)\n",
    "\n",
    "# Visualize loss history\n",
    "plt.plot(epoch_count, training_loss, 'r--')\n",
    "plt.plot(epoch_count, test_loss, 'b-')\n",
    "plt.legend(['Training Loss', 'Test Loss'])\n",
    "plt.xlabel('Epoch')\n",
    "plt.ylabel('Loss')\n",
    "plt.show();"
   ]
  },
  {
   "cell_type": "code",
   "execution_count": 17,
   "metadata": {
    "collapsed": true
   },
   "outputs": [],
   "source": [
    "#from sklearn.metrics import mean_absolute_error\n",
    "#from sklearn.model_selection import train_test_split"
   ]
  },
  {
   "cell_type": "code",
   "execution_count": 18,
   "metadata": {
    "collapsed": true
   },
   "outputs": [],
   "source": [
    "#train_1,cross_val,target_train,target_crossval=train_test_split(train,target,test_size=0.20,shuffle=True)\n",
    "#cross_val1,test_crossval,target_crossval1,target_test=train_test_split(cross_val,target_crossval,test_size=0.1,shuffle=True)\n",
    "#model.fit(train,target,epochs=5,shuffle=True)\n",
    "#predictions=model.predict(cross_val1)\n",
    "#print(\"The mean absolute error is:\"+str(mean_absolute_error(predictions,target_crossval1)))\n",
    "#final_pred=model.predict(test_crossval)\n",
    "#print(\"The mean absolute test error is:\"+str(mean_absolute_error(final_pred,target_test)))"
   ]
  },
  {
   "cell_type": "code",
   "execution_count": 19,
   "metadata": {
    "collapsed": true
   },
   "outputs": [],
   "source": [
    "final_predictions=model.predict(test)"
   ]
  },
  {
   "cell_type": "code",
   "execution_count": 20,
   "metadata": {
    "collapsed": true
   },
   "outputs": [],
   "source": [
    "final_predictions=final_predictions.flatten()"
   ]
  },
  {
   "cell_type": "code",
   "execution_count": 21,
   "metadata": {},
   "outputs": [
    {
     "data": {
      "text/plain": [
       "(1897,)"
      ]
     },
     "execution_count": 21,
     "metadata": {},
     "output_type": "execute_result"
    }
   ],
   "source": [
    "final_predictions.shape"
   ]
  },
  {
   "cell_type": "code",
   "execution_count": 22,
   "metadata": {
    "collapsed": true
   },
   "outputs": [],
   "source": [
    "submission = pd.DataFrame({\"Id\":ID,\"Yield\": final_predictions})\n",
    "submission.to_csv('final.csv', index=False)"
   ]
  },
  {
   "cell_type": "code",
   "execution_count": null,
   "metadata": {
    "collapsed": true
   },
   "outputs": [],
   "source": []
  },
  {
   "cell_type": "code",
   "execution_count": null,
   "metadata": {
    "collapsed": true
   },
   "outputs": [],
   "source": []
  }
 ],
 "metadata": {
  "kernelspec": {
   "display_name": "Python 3",
   "language": "python",
   "name": "python3"
  },
  "language_info": {
   "codemirror_mode": {
    "name": "ipython",
    "version": 3
   },
   "file_extension": ".py",
   "mimetype": "text/x-python",
   "name": "python",
   "nbconvert_exporter": "python",
   "pygments_lexer": "ipython3",
   "version": "3.6.8"
  }
 },
 "nbformat": 4,
 "nbformat_minor": 2
}
